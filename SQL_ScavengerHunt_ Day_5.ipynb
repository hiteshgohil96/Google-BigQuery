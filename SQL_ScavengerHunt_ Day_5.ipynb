{
 "cells": [
  {
   "cell_type": "markdown",
   "execution_count": null,
   "metadata": {
    "_cell_guid": "ef431a97-04fc-49f3-ba4c-8f5a09e915df",
    "_uuid": "d3a4faea2d05628aad3254f0aa5e884899b6d04a"
   },
   "source": [
    "## BIGQUERY DAY 5\n",
    "____\n",
    "\n",
    "GitHub is an place for people to store & collaborate on different versions of their computer code. A \"repo\" is a collection of code associated with a specific project. \n",
    "\n",
    "Most public code on Github is shared under a specific license, which determines how it can be used and by who. For our example, we're going to look at how many different files have been released under each licenses. \n",
    "\n",
    "We need to get our environment ready to go:"
   ]
  },
  {
   "cell_type": "code",
   "execution_count": 1,
   "metadata": {
    "_cell_guid": "77af0d7f-ad5e-4296-b2a8-114cd7c228eb",
    "_uuid": "7d374b8d3f3d0014c74ee370038a5f927c2d790a",
    "collapsed": true
   },
   "outputs": [],
   "source": [
    "# import package with helper functions \n",
    "import bq_helper\n",
    "\n",
    "# create a helper object for this dataset\n",
    "github = bq_helper.BigQueryHelper(active_project=\"bigquery-public-data\",\n",
    "                                              dataset_name=\"github_repos\")"
   ]
  },
  {
   "cell_type": "code",
   "execution_count": 2,
   "metadata": {},
   "outputs": [
    {
     "data": {
      "text/plain": [
       "['commits',\n",
       " 'contents',\n",
       " 'files',\n",
       " 'languages',\n",
       " 'licenses',\n",
       " 'sample_commits',\n",
       " 'sample_contents',\n",
       " 'sample_files',\n",
       " 'sample_repos']"
      ]
     },
     "execution_count": 2,
     "metadata": {},
     "output_type": "execute_result"
    }
   ],
   "source": [
    "github.list_tables()"
   ]
  },
  {
   "cell_type": "code",
   "execution_count": 3,
   "metadata": {},
   "outputs": [
    {
     "data": {
      "text/plain": [
       "[SchemaField('repo_name', 'string', 'NULLABLE', None, ()),\n",
       " SchemaField('ref', 'string', 'NULLABLE', None, ()),\n",
       " SchemaField('path', 'string', 'NULLABLE', None, ()),\n",
       " SchemaField('mode', 'integer', 'NULLABLE', None, ()),\n",
       " SchemaField('id', 'string', 'NULLABLE', None, ()),\n",
       " SchemaField('symlink_target', 'string', 'NULLABLE', None, ())]"
      ]
     },
     "execution_count": 3,
     "metadata": {},
     "output_type": "execute_result"
    }
   ],
   "source": [
    "github.table_schema('sample_files')"
   ]
  },
  {
   "cell_type": "code",
   "execution_count": 4,
   "metadata": {},
   "outputs": [
    {
     "data": {
      "text/plain": [
       "[SchemaField('commit', 'string', 'NULLABLE', None, ()),\n",
       " SchemaField('tree', 'string', 'NULLABLE', None, ()),\n",
       " SchemaField('parent', 'string', 'REPEATED', None, ()),\n",
       " SchemaField('author', 'record', 'NULLABLE', None, (SchemaField('name', 'string', 'NULLABLE', None, ()), SchemaField('email', 'string', 'NULLABLE', None, ()), SchemaField('time_sec', 'integer', 'NULLABLE', None, ()), SchemaField('tz_offset', 'integer', 'NULLABLE', None, ()), SchemaField('date', 'timestamp', 'NULLABLE', None, ()))),\n",
       " SchemaField('committer', 'record', 'NULLABLE', None, (SchemaField('name', 'string', 'NULLABLE', None, ()), SchemaField('email', 'string', 'NULLABLE', None, ()), SchemaField('time_sec', 'integer', 'NULLABLE', None, ()), SchemaField('tz_offset', 'integer', 'NULLABLE', None, ()), SchemaField('date', 'timestamp', 'NULLABLE', None, ()))),\n",
       " SchemaField('subject', 'string', 'NULLABLE', None, ()),\n",
       " SchemaField('message', 'string', 'NULLABLE', None, ()),\n",
       " SchemaField('trailer', 'record', 'REPEATED', None, (SchemaField('key', 'string', 'NULLABLE', None, ()), SchemaField('value', 'string', 'NULLABLE', None, ()), SchemaField('email', 'string', 'NULLABLE', None, ()))),\n",
       " SchemaField('difference', 'record', 'REPEATED', None, (SchemaField('old_mode', 'integer', 'NULLABLE', None, ()), SchemaField('new_mode', 'integer', 'NULLABLE', None, ()), SchemaField('old_path', 'string', 'NULLABLE', None, ()), SchemaField('new_path', 'string', 'NULLABLE', None, ()), SchemaField('old_sha1', 'string', 'NULLABLE', None, ()), SchemaField('new_sha1', 'string', 'NULLABLE', None, ()), SchemaField('old_repo', 'string', 'NULLABLE', None, ()), SchemaField('new_repo', 'string', 'NULLABLE', None, ()))),\n",
       " SchemaField('difference_truncated', 'boolean', 'NULLABLE', None, ()),\n",
       " SchemaField('repo_name', 'string', 'NULLABLE', None, ()),\n",
       " SchemaField('encoding', 'string', 'NULLABLE', None, ())]"
      ]
     },
     "execution_count": 4,
     "metadata": {},
     "output_type": "execute_result"
    }
   ],
   "source": [
    "github.table_schema('sample_commits')"
   ]
  },
  {
   "cell_type": "code",
   "execution_count": 5,
   "metadata": {},
   "outputs": [
    {
     "data": {
      "text/html": [
       "<div>\n",
       "<style>\n",
       "    .dataframe thead tr:only-child th {\n",
       "        text-align: right;\n",
       "    }\n",
       "\n",
       "    .dataframe thead th {\n",
       "        text-align: left;\n",
       "    }\n",
       "\n",
       "    .dataframe tbody tr th {\n",
       "        vertical-align: top;\n",
       "    }\n",
       "</style>\n",
       "<table border=\"1\" class=\"dataframe\">\n",
       "  <thead>\n",
       "    <tr style=\"text-align: right;\">\n",
       "      <th></th>\n",
       "      <th>commit</th>\n",
       "      <th>tree</th>\n",
       "      <th>parent</th>\n",
       "      <th>author</th>\n",
       "      <th>committer</th>\n",
       "      <th>subject</th>\n",
       "      <th>message</th>\n",
       "      <th>trailer</th>\n",
       "      <th>difference</th>\n",
       "      <th>difference_truncated</th>\n",
       "      <th>repo_name</th>\n",
       "      <th>encoding</th>\n",
       "    </tr>\n",
       "  </thead>\n",
       "  <tbody>\n",
       "    <tr>\n",
       "      <th>0</th>\n",
       "      <td>3eca86e75ec7a7d4b9a9c8091b11676f7bd2a39f</td>\n",
       "      <td>8e1b4380409a85a922ee0d3f622b5dd4d16bcfad</td>\n",
       "      <td>[104a0c02e8b1936c049e18a6d4e4ab040fb61213]</td>\n",
       "      <td>{'name': 'Mark Rutland', 'email': '1db9dd262be...</td>\n",
       "      <td>{'name': 'Catalin Marinas', 'email': '15ce75b2...</td>\n",
       "      <td>arm64: Remove fixmap include fragility</td>\n",
       "      <td>arm64: Remove fixmap include fragility\\n\\nThe ...</td>\n",
       "      <td>[{'key': 'Signed-off-by', 'value': 'Mark Rutla...</td>\n",
       "      <td>[{'old_mode': 33188, 'new_mode': 33188, 'old_p...</td>\n",
       "      <td>None</td>\n",
       "      <td>torvalds/linux</td>\n",
       "      <td>None</td>\n",
       "    </tr>\n",
       "    <tr>\n",
       "      <th>1</th>\n",
       "      <td>7158627686f02319c50c8d9d78f75d4c8d126ff2</td>\n",
       "      <td>3b4d781bd966f07cad1b67b137f0ff8b89430e9a</td>\n",
       "      <td>[66aa8d6a145b6a66566b4fce219cc56c3d0e01c3]</td>\n",
       "      <td>{'name': 'Will Deacon', 'email': 'b913f13ef92a...</td>\n",
       "      <td>{'name': 'Catalin Marinas', 'email': '15ce75b2...</td>\n",
       "      <td>arm64: percpu: implement optimised pcpu access...</td>\n",
       "      <td>arm64: percpu: implement optimised pcpu access...</td>\n",
       "      <td>[{'key': 'Signed-off-by', 'value': 'Will Deaco...</td>\n",
       "      <td>[{'old_mode': 33188, 'new_mode': 33188, 'old_p...</td>\n",
       "      <td>None</td>\n",
       "      <td>torvalds/linux</td>\n",
       "      <td>None</td>\n",
       "    </tr>\n",
       "    <tr>\n",
       "      <th>2</th>\n",
       "      <td>9732cafd9dc0206479be919baf0067239f0a63ca</td>\n",
       "      <td>c8878035ac9cb6dce592957f12dc1723a583989d</td>\n",
       "      <td>[f3c003f72dfb2497056bcbb864885837a1968ed5]</td>\n",
       "      <td>{'name': 'Jiang Liu', 'email': 'c745fa7b96fe79...</td>\n",
       "      <td>{'name': 'Catalin Marinas', 'email': '15ce75b2...</td>\n",
       "      <td>arm64, jump label: optimize jump label impleme...</td>\n",
       "      <td>arm64, jump label: optimize jump label impleme...</td>\n",
       "      <td>[{'key': 'Reviewed-by', 'value': 'Will Deacon ...</td>\n",
       "      <td>[{'old_mode': 33188, 'new_mode': 33188, 'old_p...</td>\n",
       "      <td>None</td>\n",
       "      <td>torvalds/linux</td>\n",
       "      <td>None</td>\n",
       "    </tr>\n",
       "    <tr>\n",
       "      <th>3</th>\n",
       "      <td>4702abd3f9728893ad5b0f4389e1902588510459</td>\n",
       "      <td>32926e7c55ef585d9b9c174a0e5f9ed13ed6bf7e</td>\n",
       "      <td>[ddf28352b80c86754a6424e3a61e8bdf9213b3c7]</td>\n",
       "      <td>{'name': 'Nicolas Pitre', 'email': '408789a210...</td>\n",
       "      <td>{'name': 'Arnd Bergmann', 'email': 'f2c659f019...</td>\n",
       "      <td>ARM: mach-nuc93x: delete</td>\n",
       "      <td>ARM: mach-nuc93x: delete\\n\\nThis architecture ...</td>\n",
       "      <td>[{'key': 'Signed-off-by', 'value': 'Nicolas Pi...</td>\n",
       "      <td>[{'old_mode': 33188, 'new_mode': 33188, 'old_p...</td>\n",
       "      <td>None</td>\n",
       "      <td>torvalds/linux</td>\n",
       "      <td>None</td>\n",
       "    </tr>\n",
       "    <tr>\n",
       "      <th>4</th>\n",
       "      <td>57bd4b91a6cfc5bad4c5d829ef85293ea63643ea</td>\n",
       "      <td>2ffc2066eb7638e185663e9d849663403229d4e5</td>\n",
       "      <td>[f74c95c20bad8e183e41283475f68a3e7b247af4]</td>\n",
       "      <td>{'name': 'Ben Dooks', 'email': '1177f64998f284...</td>\n",
       "      <td>{'name': 'Ben Dooks', 'email': '1177f64998f284...</td>\n",
       "      <td>[ARM] S3C24XX: Movev udc headers to arch/arm/p...</td>\n",
       "      <td>[ARM] S3C24XX: Movev udc headers to arch/arm/p...</td>\n",
       "      <td>[{'key': 'Signed-off-by', 'value': 'Ben Dooks ...</td>\n",
       "      <td>[{'old_mode': 33188, 'new_mode': 33188, 'old_p...</td>\n",
       "      <td>None</td>\n",
       "      <td>torvalds/linux</td>\n",
       "      <td>None</td>\n",
       "    </tr>\n",
       "  </tbody>\n",
       "</table>\n",
       "</div>"
      ],
      "text/plain": [
       "                                     commit  \\\n",
       "0  3eca86e75ec7a7d4b9a9c8091b11676f7bd2a39f   \n",
       "1  7158627686f02319c50c8d9d78f75d4c8d126ff2   \n",
       "2  9732cafd9dc0206479be919baf0067239f0a63ca   \n",
       "3  4702abd3f9728893ad5b0f4389e1902588510459   \n",
       "4  57bd4b91a6cfc5bad4c5d829ef85293ea63643ea   \n",
       "\n",
       "                                       tree  \\\n",
       "0  8e1b4380409a85a922ee0d3f622b5dd4d16bcfad   \n",
       "1  3b4d781bd966f07cad1b67b137f0ff8b89430e9a   \n",
       "2  c8878035ac9cb6dce592957f12dc1723a583989d   \n",
       "3  32926e7c55ef585d9b9c174a0e5f9ed13ed6bf7e   \n",
       "4  2ffc2066eb7638e185663e9d849663403229d4e5   \n",
       "\n",
       "                                       parent  \\\n",
       "0  [104a0c02e8b1936c049e18a6d4e4ab040fb61213]   \n",
       "1  [66aa8d6a145b6a66566b4fce219cc56c3d0e01c3]   \n",
       "2  [f3c003f72dfb2497056bcbb864885837a1968ed5]   \n",
       "3  [ddf28352b80c86754a6424e3a61e8bdf9213b3c7]   \n",
       "4  [f74c95c20bad8e183e41283475f68a3e7b247af4]   \n",
       "\n",
       "                                              author  \\\n",
       "0  {'name': 'Mark Rutland', 'email': '1db9dd262be...   \n",
       "1  {'name': 'Will Deacon', 'email': 'b913f13ef92a...   \n",
       "2  {'name': 'Jiang Liu', 'email': 'c745fa7b96fe79...   \n",
       "3  {'name': 'Nicolas Pitre', 'email': '408789a210...   \n",
       "4  {'name': 'Ben Dooks', 'email': '1177f64998f284...   \n",
       "\n",
       "                                           committer  \\\n",
       "0  {'name': 'Catalin Marinas', 'email': '15ce75b2...   \n",
       "1  {'name': 'Catalin Marinas', 'email': '15ce75b2...   \n",
       "2  {'name': 'Catalin Marinas', 'email': '15ce75b2...   \n",
       "3  {'name': 'Arnd Bergmann', 'email': 'f2c659f019...   \n",
       "4  {'name': 'Ben Dooks', 'email': '1177f64998f284...   \n",
       "\n",
       "                                             subject  \\\n",
       "0             arm64: Remove fixmap include fragility   \n",
       "1  arm64: percpu: implement optimised pcpu access...   \n",
       "2  arm64, jump label: optimize jump label impleme...   \n",
       "3                           ARM: mach-nuc93x: delete   \n",
       "4  [ARM] S3C24XX: Movev udc headers to arch/arm/p...   \n",
       "\n",
       "                                             message  \\\n",
       "0  arm64: Remove fixmap include fragility\\n\\nThe ...   \n",
       "1  arm64: percpu: implement optimised pcpu access...   \n",
       "2  arm64, jump label: optimize jump label impleme...   \n",
       "3  ARM: mach-nuc93x: delete\\n\\nThis architecture ...   \n",
       "4  [ARM] S3C24XX: Movev udc headers to arch/arm/p...   \n",
       "\n",
       "                                             trailer  \\\n",
       "0  [{'key': 'Signed-off-by', 'value': 'Mark Rutla...   \n",
       "1  [{'key': 'Signed-off-by', 'value': 'Will Deaco...   \n",
       "2  [{'key': 'Reviewed-by', 'value': 'Will Deacon ...   \n",
       "3  [{'key': 'Signed-off-by', 'value': 'Nicolas Pi...   \n",
       "4  [{'key': 'Signed-off-by', 'value': 'Ben Dooks ...   \n",
       "\n",
       "                                          difference difference_truncated  \\\n",
       "0  [{'old_mode': 33188, 'new_mode': 33188, 'old_p...                 None   \n",
       "1  [{'old_mode': 33188, 'new_mode': 33188, 'old_p...                 None   \n",
       "2  [{'old_mode': 33188, 'new_mode': 33188, 'old_p...                 None   \n",
       "3  [{'old_mode': 33188, 'new_mode': 33188, 'old_p...                 None   \n",
       "4  [{'old_mode': 33188, 'new_mode': 33188, 'old_p...                 None   \n",
       "\n",
       "        repo_name encoding  \n",
       "0  torvalds/linux     None  \n",
       "1  torvalds/linux     None  \n",
       "2  torvalds/linux     None  \n",
       "3  torvalds/linux     None  \n",
       "4  torvalds/linux     None  "
      ]
     },
     "execution_count": 5,
     "metadata": {},
     "output_type": "execute_result"
    }
   ],
   "source": [
    "github.head('sample_commits', num_rows = 5)"
   ]
  },
  {
   "cell_type": "code",
   "execution_count": 6,
   "metadata": {},
   "outputs": [
    {
     "data": {
      "text/html": [
       "<div>\n",
       "<style>\n",
       "    .dataframe thead tr:only-child th {\n",
       "        text-align: right;\n",
       "    }\n",
       "\n",
       "    .dataframe thead th {\n",
       "        text-align: left;\n",
       "    }\n",
       "\n",
       "    .dataframe tbody tr th {\n",
       "        vertical-align: top;\n",
       "    }\n",
       "</style>\n",
       "<table border=\"1\" class=\"dataframe\">\n",
       "  <thead>\n",
       "    <tr style=\"text-align: right;\">\n",
       "      <th></th>\n",
       "      <th>repo_name</th>\n",
       "      <th>ref</th>\n",
       "      <th>path</th>\n",
       "      <th>mode</th>\n",
       "      <th>id</th>\n",
       "      <th>symlink_target</th>\n",
       "    </tr>\n",
       "  </thead>\n",
       "  <tbody>\n",
       "    <tr>\n",
       "      <th>0</th>\n",
       "      <td>git/git</td>\n",
       "      <td>refs/heads/master</td>\n",
       "      <td>RelNotes</td>\n",
       "      <td>40960</td>\n",
       "      <td>62615ffa4e97803da96aefbc798ab50f949a8db7</td>\n",
       "      <td>Documentation/RelNotes/2.10.0.txt</td>\n",
       "    </tr>\n",
       "    <tr>\n",
       "      <th>1</th>\n",
       "      <td>np/ling</td>\n",
       "      <td>refs/heads/master</td>\n",
       "      <td>tests/success/plug_compose.t/plug_compose.ll</td>\n",
       "      <td>40960</td>\n",
       "      <td>0c1605e4b447158085656487dc477f7670c4bac1</td>\n",
       "      <td>../../../fixtures/all/plug_compose.ll</td>\n",
       "    </tr>\n",
       "    <tr>\n",
       "      <th>2</th>\n",
       "      <td>np/ling</td>\n",
       "      <td>refs/heads/master</td>\n",
       "      <td>fixtures/strict-par-success/parallel_assoc_lef...</td>\n",
       "      <td>40960</td>\n",
       "      <td>b59bff84ec03d12fabd3b51a27ed7e39a180097e</td>\n",
       "      <td>../all/parallel_assoc_left.ll</td>\n",
       "    </tr>\n",
       "    <tr>\n",
       "      <th>3</th>\n",
       "      <td>np/ling</td>\n",
       "      <td>refs/heads/master</td>\n",
       "      <td>fixtures/sequence/parallel_assoc_2tensor2_left.ll</td>\n",
       "      <td>40960</td>\n",
       "      <td>f29523e3fb65702d99478e429eac6f801f32152b</td>\n",
       "      <td>../all/parallel_assoc_2tensor2_left.ll</td>\n",
       "    </tr>\n",
       "    <tr>\n",
       "      <th>4</th>\n",
       "      <td>np/ling</td>\n",
       "      <td>refs/heads/master</td>\n",
       "      <td>fixtures/success/my_dual.ll</td>\n",
       "      <td>40960</td>\n",
       "      <td>38a3af095088f90dfc956cb990e893909c3ab286</td>\n",
       "      <td>../all/my_dual.ll</td>\n",
       "    </tr>\n",
       "    <tr>\n",
       "      <th>5</th>\n",
       "      <td>np/ling</td>\n",
       "      <td>refs/heads/master</td>\n",
       "      <td>tests/success/literals.t/literals.ll</td>\n",
       "      <td>40960</td>\n",
       "      <td>e933ac4bb885bf2ce6dddf01853a61310a684dd3</td>\n",
       "      <td>../../../fixtures/all/literals.ll</td>\n",
       "    </tr>\n",
       "    <tr>\n",
       "      <th>6</th>\n",
       "      <td>np/ling</td>\n",
       "      <td>refs/heads/master</td>\n",
       "      <td>fixtures/sequence/feed_recv.ll</td>\n",
       "      <td>40960</td>\n",
       "      <td>3f0bd39ae146acade476d76a3f0ebd391974c570</td>\n",
       "      <td>../all/feed_recv.ll</td>\n",
       "    </tr>\n",
       "    <tr>\n",
       "      <th>7</th>\n",
       "      <td>np/ling</td>\n",
       "      <td>refs/heads/master</td>\n",
       "      <td>tests/success/lettype.t/lettype.ll</td>\n",
       "      <td>40960</td>\n",
       "      <td>065788982da09b08b8defc3e3b0f9764fae2a7b9</td>\n",
       "      <td>../../../fixtures/all/lettype.ll</td>\n",
       "    </tr>\n",
       "    <tr>\n",
       "      <th>8</th>\n",
       "      <td>np/ling</td>\n",
       "      <td>refs/heads/master</td>\n",
       "      <td>fixtures/strict-par-success/literals.ll</td>\n",
       "      <td>40960</td>\n",
       "      <td>3cf9f78c9276d38d6192149d2d30d4b4b0dba119</td>\n",
       "      <td>../all/literals.ll</td>\n",
       "    </tr>\n",
       "    <tr>\n",
       "      <th>9</th>\n",
       "      <td>np/ling</td>\n",
       "      <td>refs/heads/master</td>\n",
       "      <td>fixtures/success/parallel_assoc_tensor3_left.ll</td>\n",
       "      <td>40960</td>\n",
       "      <td>0c491fa21a5fdabfd08392e7f45e70fae33cc9f9</td>\n",
       "      <td>../all/parallel_assoc_tensor3_left.ll</td>\n",
       "    </tr>\n",
       "  </tbody>\n",
       "</table>\n",
       "</div>"
      ],
      "text/plain": [
       "  repo_name                ref  \\\n",
       "0   git/git  refs/heads/master   \n",
       "1   np/ling  refs/heads/master   \n",
       "2   np/ling  refs/heads/master   \n",
       "3   np/ling  refs/heads/master   \n",
       "4   np/ling  refs/heads/master   \n",
       "5   np/ling  refs/heads/master   \n",
       "6   np/ling  refs/heads/master   \n",
       "7   np/ling  refs/heads/master   \n",
       "8   np/ling  refs/heads/master   \n",
       "9   np/ling  refs/heads/master   \n",
       "\n",
       "                                                path   mode  \\\n",
       "0                                           RelNotes  40960   \n",
       "1       tests/success/plug_compose.t/plug_compose.ll  40960   \n",
       "2  fixtures/strict-par-success/parallel_assoc_lef...  40960   \n",
       "3  fixtures/sequence/parallel_assoc_2tensor2_left.ll  40960   \n",
       "4                        fixtures/success/my_dual.ll  40960   \n",
       "5               tests/success/literals.t/literals.ll  40960   \n",
       "6                     fixtures/sequence/feed_recv.ll  40960   \n",
       "7                 tests/success/lettype.t/lettype.ll  40960   \n",
       "8            fixtures/strict-par-success/literals.ll  40960   \n",
       "9    fixtures/success/parallel_assoc_tensor3_left.ll  40960   \n",
       "\n",
       "                                         id  \\\n",
       "0  62615ffa4e97803da96aefbc798ab50f949a8db7   \n",
       "1  0c1605e4b447158085656487dc477f7670c4bac1   \n",
       "2  b59bff84ec03d12fabd3b51a27ed7e39a180097e   \n",
       "3  f29523e3fb65702d99478e429eac6f801f32152b   \n",
       "4  38a3af095088f90dfc956cb990e893909c3ab286   \n",
       "5  e933ac4bb885bf2ce6dddf01853a61310a684dd3   \n",
       "6  3f0bd39ae146acade476d76a3f0ebd391974c570   \n",
       "7  065788982da09b08b8defc3e3b0f9764fae2a7b9   \n",
       "8  3cf9f78c9276d38d6192149d2d30d4b4b0dba119   \n",
       "9  0c491fa21a5fdabfd08392e7f45e70fae33cc9f9   \n",
       "\n",
       "                           symlink_target  \n",
       "0       Documentation/RelNotes/2.10.0.txt  \n",
       "1   ../../../fixtures/all/plug_compose.ll  \n",
       "2           ../all/parallel_assoc_left.ll  \n",
       "3  ../all/parallel_assoc_2tensor2_left.ll  \n",
       "4                       ../all/my_dual.ll  \n",
       "5       ../../../fixtures/all/literals.ll  \n",
       "6                     ../all/feed_recv.ll  \n",
       "7        ../../../fixtures/all/lettype.ll  \n",
       "8                      ../all/literals.ll  \n",
       "9   ../all/parallel_assoc_tensor3_left.ll  "
      ]
     },
     "execution_count": 6,
     "metadata": {},
     "output_type": "execute_result"
    }
   ],
   "source": [
    "github.head('sample_files', num_rows = 10)"
   ]
  },
  {
   "cell_type": "markdown",
   "execution_count": null,
   "metadata": {
    "_cell_guid": "a2806bda-371b-4c95-92ed-bc70919922b6",
    "_uuid": "a13315b4345edff6264d4bbe0ef16e1db8940d1d"
   },
   "source": [
    "Now we're ready to get started on our query. This one is going to be a bit of a beast, so stick with me! The only new syntax we'll see is around the JOIN clause, everything is something we've already learned. :)\n",
    "\n",
    "First, I'm going to specify which columns I'd like to be returned in the final table that's returned to me. Here, I'm selecting the COUNT of the \"path\" column from the sample_files table and then calling it \"number_of_files\". I'm *also* specifying that I was to include the \"license\" column, even though there's no \"license\" column in the \"sample_files\" table.\n",
    "\n",
    "        SELECT L.license, COUNT(sf.path) AS number_of_files\n",
    "        FROM `bigquery-public-data.github_repos.sample_files` as sf\n",
    "Speaking of the JOIN clause, we still haven't actually told SQL we want to join anything! To do this, we need to specify what type of join we want (in this case an inner join) and how which columns we want to JOIN ON. Here, I'm using ON to specify that I want to use the \"repo_name\" column from the each table.\n",
    "\n",
    "    INNER JOIN `bigquery-public-data.github_repos.licenses` as L \n",
    "            ON sf.repo_name = L.repo_name\n",
    "And, finally, we have a GROUP BY and ORDER BY clause that apply to the final table that's been returned to us. We've seen these a couple of times at this point. :)\n",
    "\n",
    "        GROUP BY license\n",
    "        ORDER BY number_of_files DESC\n",
    " Alright, that was a lot, but you should have an idea what each part of this query is doing. :) Without any further ado, let' put it into action."
   ]
  },
  {
   "cell_type": "code",
   "execution_count": 7,
   "metadata": {
    "_cell_guid": "6827dc13-ec68-45f2-9a0d-56612e2849ca",
    "_uuid": "6bc97eef84b58534150aae434df38e1a21348fbb",
    "collapsed": true
   },
   "outputs": [],
   "source": [
    "# You can use two dashes (--) to add comments in SQL\n",
    "query = (\"\"\"\n",
    "        -- Select all the columns we want in our joined table\n",
    "        SELECT L.license, COUNT(sf.path) AS number_of_files\n",
    "        FROM `bigquery-public-data.github_repos.sample_files` as sf\n",
    "        -- Table to merge into sample_files\n",
    "        INNER JOIN `bigquery-public-data.github_repos.licenses` as L \n",
    "            ON sf.repo_name = L.repo_name -- what columns should we join on?\n",
    "        GROUP BY L.license\n",
    "        ORDER BY number_of_files DESC\n",
    "        \"\"\")\n",
    "\n",
    "file_count_by_license = github.query_to_pandas_safe(query, max_gb_scanned=6)"
   ]
  },
  {
   "cell_type": "markdown",
   "execution_count": null,
   "metadata": {
    "_cell_guid": "67b338a5-69d5-4dc8-90bf-04cec2459204",
    "_uuid": "6436a3edcdf91ee115c1abf12e6337566274954d"
   },
   "source": [
    "Whew, that was a big query! But it gave us a nice tidy little table that nicely summarizes how many files have been committed under each license:  "
   ]
  },
  {
   "cell_type": "code",
   "execution_count": 8,
   "metadata": {
    "_cell_guid": "6b468869-6125-475c-95ef-424a85e06b5b",
    "_uuid": "fe0c791791d501a49bcbcce86948357f552888a3"
   },
   "outputs": [
    {
     "name": "stdout",
     "output_type": "stream",
     "text": [
      "         license  number_of_files\n",
      "0            mit         20432844\n",
      "1        gpl-2.0         16867410\n",
      "2     apache-2.0          7123968\n",
      "3        gpl-3.0          4936531\n",
      "4   bsd-3-clause          2943900\n",
      "5       agpl-3.0          1293773\n",
      "6       lgpl-2.1           793054\n",
      "7   bsd-2-clause           694767\n",
      "8       lgpl-3.0           564433\n",
      "9        mpl-2.0           473078\n",
      "10       cc0-1.0           405925\n",
      "11       epl-1.0           320203\n",
      "12     unlicense           208912\n",
      "13  artistic-2.0           148414\n",
      "14           isc           117709\n"
     ]
    }
   ],
   "source": [
    "# print out all the returned results\n",
    "print(file_count_by_license)"
   ]
  },
  {
   "cell_type": "markdown",
   "execution_count": null,
   "metadata": {
    "_cell_guid": "80698da7-8e48-4f68-9913-1c6969b9739a",
    "_uuid": "0d4000d1bca5c05b76960a00f5c8e096a65fda76"
   },
   "source": [
    "And that's how to get started using JOIN in BigQuery! There are many other kinds of joins (you can [read about some here](https://cloud.google.com/bigquery/docs/reference/standard-sql/query-syntax#join-types)), so once you're very comfortable with INNER JOIN you can start exploring some of them. :)"
   ]
  },
  {
   "cell_type": "markdown",
   "execution_count": null,
   "metadata": {
    "_cell_guid": "d4e528a6-ea14-47ac-a82e-a31c92bbc083",
    "_uuid": "02471d34ed7a800f149a4b757f119d656d7306d0"
   },
   "source": [
    "# Scavenger hunt\n",
    "___\n",
    "\n",
    "Now it's your turn! Here is the question I would like you to get the data to answer. Just one today, since you've been working hard this week. :)\n",
    "\n",
    "*  How many commits (recorded in the \"sample_commits\" table) have been made in repos written in the Python programming language? (I'm looking for the number of commits per repo for all the repos written in Python.\n",
    "    * You'll want to JOIN the sample_files and sample_commits questions to answer this.\n",
    "    * **Hint:** You can figure out which files are written in Python by filtering results from the \"sample_files\" table using `WHERE path LIKE '%.py'`. This will return results where the \"path\" column ends in the text \".py\", which is one way to identify which files have Python code.\n",
    "\n",
    "In order to answer these questions, you can fork this notebook by hitting the blue \"Fork Notebook\" at the very top of this page (you may have to scroll up). \"Forking\" something is making a copy of it that you can edit on your own without changing the original."
   ]
  },
  {
   "cell_type": "code",
   "execution_count": 9,
   "metadata": {
    "_cell_guid": "dc5ecdc2-d107-414f-b185-e68ee13f54f0",
    "_uuid": "2c7648bc2e0ecaa97f78fde441e104a570c3bc9c"
   },
   "outputs": [
    {
     "data": {
      "text/html": [
       "<div>\n",
       "<style>\n",
       "    .dataframe thead tr:only-child th {\n",
       "        text-align: right;\n",
       "    }\n",
       "\n",
       "    .dataframe thead th {\n",
       "        text-align: left;\n",
       "    }\n",
       "\n",
       "    .dataframe tbody tr th {\n",
       "        vertical-align: top;\n",
       "    }\n",
       "</style>\n",
       "<table border=\"1\" class=\"dataframe\">\n",
       "  <thead>\n",
       "    <tr style=\"text-align: right;\">\n",
       "      <th></th>\n",
       "      <th>repo_name</th>\n",
       "      <th>distinct_commit</th>\n",
       "    </tr>\n",
       "  </thead>\n",
       "  <tbody>\n",
       "    <tr>\n",
       "      <th>0</th>\n",
       "      <td>torvalds/linux</td>\n",
       "      <td>602604</td>\n",
       "    </tr>\n",
       "    <tr>\n",
       "      <th>1</th>\n",
       "      <td>apple/swift</td>\n",
       "      <td>38891</td>\n",
       "    </tr>\n",
       "    <tr>\n",
       "      <th>2</th>\n",
       "      <td>Microsoft/vscode</td>\n",
       "      <td>6909</td>\n",
       "    </tr>\n",
       "    <tr>\n",
       "      <th>3</th>\n",
       "      <td>facebook/react</td>\n",
       "      <td>6875</td>\n",
       "    </tr>\n",
       "    <tr>\n",
       "      <th>4</th>\n",
       "      <td>tensorflow/tensorflow</td>\n",
       "      <td>5253</td>\n",
       "    </tr>\n",
       "  </tbody>\n",
       "</table>\n",
       "</div>"
      ],
      "text/plain": [
       "               repo_name  distinct_commit\n",
       "0         torvalds/linux           602604\n",
       "1            apple/swift            38891\n",
       "2       Microsoft/vscode             6909\n",
       "3         facebook/react             6875\n",
       "4  tensorflow/tensorflow             5253"
      ]
     },
     "execution_count": 9,
     "metadata": {},
     "output_type": "execute_result"
    }
   ],
   "source": [
    "# How many commits have been made in repos written in the Python programming language? \n",
    "\n",
    "query = \"\"\" \n",
    "\n",
    "select  f.repo_name, count(distinct(c.commit)) as distinct_commit\n",
    "from `bigquery-public-data.github_repos.sample_files` f inner join `bigquery-public-data.github_repos.sample_commits` c on f.repo_name = c.repo_name\n",
    "where path like '%.py'\n",
    "group by f.repo_name\n",
    "order by distinct_commit desc \"\"\"\n",
    "\n",
    "commit = github.query_to_pandas_safe(query, max_gb_scanned=6)\n",
    "commit"
   ]
  },
  {
   "cell_type": "markdown",
   "execution_count": null,
   "metadata": {
    "_cell_guid": "cbd1f587-cddd-4f06-b4ae-ce215b32ac20",
    "_uuid": "9f231f459e13f0dc2f9347d38cc7c684c0dada18"
   },
   "source": [
    "Please feel free to ask any questions you have in this notebook. \n",
    "\n",
    "Also, if you want to share or get comments on your kernel."
   ]
  }
 ],
 "metadata": {
  "kernelspec": {
   "display_name": "Python 3",
   "language": "python",
   "name": "python3"
  },
  "language_info": {
   "codemirror_mode": {
    "name": "ipython",
    "version": 3
   },
   "file_extension": ".py",
   "mimetype": "text/x-python",
   "name": "python",
   "nbconvert_exporter": "python",
   "pygments_lexer": "ipython3",
   "version": "3.6.4"
  }
 },
 "nbformat": 4,
 "nbformat_minor": 4
}
